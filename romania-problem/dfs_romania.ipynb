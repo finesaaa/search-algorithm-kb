{
  "nbformat": 4,
  "nbformat_minor": 0,
  "metadata": {
    "colab": {
      "name": "astar-romania.ipynb",
      "provenance": [],
      "collapsed_sections": []
    },
    "kernelspec": {
      "name": "python390jvsc74a57bd063fd5069d213b44bf678585dea6b12cceca9941eaf7f819626cde1f2670de90d",
      "display_name": "Python 3.9.0 64-bit"
    },
    "language_info": {
      "name": "python",
      "version": "3.9.0-final"
    },
    "metadata": {
      "interpreter": {
        "hash": "63fd5069d213b44bf678585dea6b12cceca9941eaf7f819626cde1f2670de90d"
      }
    }
  },
  "cells": [
    {
      "cell_type": "code",
      "metadata": {
        "id": "SoML3RPwJ9Cg"
      },
      "source": [
        "import heapq\n",
        "\n",
        "romania = {}"
      ],
      "execution_count": 187,
      "outputs": []
    },
    {
      "cell_type": "code",
      "metadata": {
        "id": "wNw0aGgLKavL"
      },
      "source": [
        "class PriorityQueue: \n",
        "    def __init__(self):\n",
        "        self.cities = []\n",
        "\n",
        "    def push(self, city, cost):\n",
        "        heapq.heappush(self.cities, (cost, city))\n",
        "    \n",
        "    def pop(self):\n",
        "        return heapq.heappop(self.cities)\n",
        "\n",
        "    def is_empty(self):\n",
        "        if (self.cities == []):\n",
        "            return True\n",
        "        else:\n",
        "            return False\n",
        "    \n",
        "    def check(self):\n",
        "        print(self.cities)"
      ],
      "execution_count": 188,
      "outputs": []
    },
    {
      "cell_type": "code",
      "metadata": {
        "id": "2tYmBtSnKeQi"
      },
      "source": [
        "class CityNode:\n",
        "    def __init__(self, city_name, dist):\n",
        "        self.city = str(city_name)\n",
        "        self.dist = int(dist)"
      ],
      "execution_count": 189,
      "outputs": []
    },
    {
      "cell_type": "code",
      "metadata": {
        "id": "kC5MVeHlKhQ9"
      },
      "source": [
        "def make_dict():\n",
        "    file = open(\"romania.txt\", 'r')\n",
        "    for line in file:\n",
        "        arg = line.split(',')\n",
        "        city1 = arg[0]\n",
        "        city2 = arg[1]\n",
        "        dist = int(arg[2])\n",
        "        romania.setdefault(city1, []).append(CityNode(city2, dist))\n",
        "        romania.setdefault(city2, []).append(CityNode(city1, dist))"
      ],
      "execution_count": 190,
      "outputs": []
    },
    {
      "cell_type": "code",
      "metadata": {
        "id": "WJ2TQi3-KtWM"
      },
      "source": [
        "def dfs(src, dst):\n",
        "    path = {}\n",
        "    distance = {}\n",
        "    pq = PriorityQueue()\n",
        "\n",
        "    pq.push(src, 0)\n",
        "    distance[src] = 0\n",
        "    path[src] = None\n",
        "    expandedlist = []\n",
        "\n",
        "    while (pq.is_empty() == False):\n",
        "        curr = pq.pop()\n",
        "        if (curr[1] == dst):\n",
        "            break\n",
        "        expandedlist.append(curr[1])\n",
        "        for new in romania[curr[1]]:\n",
        "            cost = int(curr[0]) + int(new.dist)\n",
        "            if (new.city not in distance):\n",
        "                distance[new.city] = cost\n",
        "                pq.push(new.city, cost)\n",
        "                path[curr[1]] = new.city\n",
        "                # path[new.city] = curr[1]\n",
        "    \n",
        "    print_path(src, dst, path, distance, expandedlist)"
      ],
      "execution_count": 191,
      "outputs": []
    },
    {
      "cell_type": "code",
      "metadata": {
        "id": "r2aXhQ1pKxBZ"
      },
      "source": [
        "def print_path(src, dst, path, distance, expandedlist):\n",
        "    fixpath = []\n",
        "    end = dst\n",
        "    start = src\n",
        "\n",
        "    while (path.get(start) != None):\n",
        "        fixpath.append(start)\n",
        "        start = path[start]\n",
        "    fixpath.append(dst)\n",
        "    # fixpath.reverse()\n",
        "    print(\"Program algoritma Astar untuk masalah Romania\\tArad => Bucharest\")\n",
        "    print(\"=======================================================\")\n",
        "    print(\"Kota yg mungkin dijelajah \\t\\t: \" + str(expandedlist))\n",
        "    print(\"Jumlah kemungkinan kota \\t\\t: \" + str(len(expandedlist)))\n",
        "    print(\"=======================================================\")\n",
        "    print(\"Kota yg dilewati dg jarak terpendek\\t: \" + str(fixpath))\n",
        "    print(\"Jumlah kota yang dilewati \\t\\t: \" + str(len(fixpath)))\n",
        "    print(\"Total jarak \\t\\t\\t\\t: \" + str(distance[dst]))"
      ],
      "execution_count": 192,
      "outputs": []
    },
    {
      "cell_type": "code",
      "metadata": {
        "colab": {
          "base_uri": "https://localhost:8080/"
        },
        "id": "-TDHBPEGKz-R",
        "outputId": "9580cc65-61db-4c34-a0a0-a9b4aad3ce6d"
      },
      "source": [
        "def main():\n",
        "    src = \"Arad\"\n",
        "    dst = \"Bucharest\"\n",
        "    make_dict()\n",
        "    dfs(src, dst)\n",
        "\n",
        "if __name__ == \"__main__\":\n",
        "    main()"
      ],
      "execution_count": 193,
      "outputs": [
        {
          "output_type": "stream",
          "name": "stdout",
          "text": [
            "Program algoritma Astar untuk masalah Romania\tArad => Bucharest\n=======================================================\nKota yg mungkin dijelajah \t\t: ['Arad', 'Zerind', 'Timisoara', 'Sibiu', 'Oradea', 'Rimnicu Vilcea', 'Lugoj', 'Fagaras', 'Mehadia', 'Piteshi', 'Craiova', 'Dobreta']\nJumlah kemungkinan kota \t\t: 12\n=======================================================\nKota yg dilewati dg jarak terpendek\t: ['Arad', 'Timisoara', 'Lugoj', 'Mehadia', 'Bucharest']\nJumlah kota yang dilewati \t\t: 5\nTotal jarak \t\t\t\t: 450\n"
          ]
        }
      ]
    }
  ]
}