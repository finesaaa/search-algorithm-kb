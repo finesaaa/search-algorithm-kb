{
  "nbformat": 4,
  "nbformat_minor": 0,
  "metadata": {
    "colab": {
      "name": "astar-romania.ipynb",
      "provenance": [],
      "collapsed_sections": []
    },
    "kernelspec": {
      "name": "python3",
      "display_name": "Python 3.8.5 64-bit",
      "metadata": {
        "interpreter": {
          "hash": "31f2aee4e71d21fbe5cf8b01ff0e069b9275f58929596ceb00d14d90e3e16cd6"
        }
      }
    },
    "language_info": {
      "name": "python",
      "version": "3.8.5"
    },
    "metadata": {
      "interpreter": {
        "hash": "63fd5069d213b44bf678585dea6b12cceca9941eaf7f819626cde1f2670de90d"
      }
    }
  },
  "cells": [
    {
      "cell_type": "code",
      "metadata": {
        "id": "SoML3RPwJ9Cg"
      },
      "source": [
        "import heapq\n",
        "from search_algorithms import dfs\n",
        "from inputs import get_romania_map"
      ],
      "execution_count": 15,
      "outputs": []
    },
    {
      "cell_type": "code",
      "metadata": {
        "colab": {
          "base_uri": "https://localhost:8080/"
        },
        "id": "-TDHBPEGKz-R",
        "outputId": "9580cc65-61db-4c34-a0a0-a9b4aad3ce6d"
      },
      "source": [
        "import tracemalloc\n",
        "import time\n",
        "\n",
        "def main():\n",
        "    src = \"Arad\"\n",
        "    dst = \"Bucharest\"\n",
        "    romania = get_romania_map()\n",
        "    dfs(src, dst, romania, [], {}, 0)\n",
        "\n",
        "if __name__ == \"__main__\":\n",
        "    tracemalloc.start()\n",
        "    time_start = time.time()\n",
        "    main()\n",
        "    time_elapsed = (time.time() - time_start)\n",
        "    current, peak = tracemalloc.get_traced_memory()\n",
        "    print(f\"Current memory usage is {current / 10**6}MB; Peak was {peak / 10**6}MB\")\n",
        "    print(f\"Current time usage is {time_elapsed}s\")\n",
        "    tracemalloc.stop()"
      ],
      "execution_count": 16,
      "outputs": [
        {
          "output_type": "stream",
          "name": "stdout",
          "text": [
            "Program algoritma DFS untuk masalah Romania Arad => Bucharest\n=======================================================\nKota yg mungkin dijelajah \t\t: ['Arad', 'Zerind', 'Oradea', 'Sibiu', 'Fagaras']\nJumlah kemungkinan kota \t\t: 5\n=======================================================\nKota yg dilewati dg jarak terpendek\t: ['Bucharest', 'Zerind', 'Oradea', 'Sibiu', 'Fagaras', 'Bucharest']\nJumlah kota yang dilewati \t\t: 6\nTotal jarak \t\t\t\t: 607\nCurrent memory usage is 0.00781MB; Peak was 0.024503MB\nCurrent time usage is 0.008468389511108398s\n"
          ]
        }
      ]
    }
  ]
}