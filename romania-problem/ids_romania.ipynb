{
  "nbformat": 4,
  "nbformat_minor": 0,
  "metadata": {
    "colab": {
      "name": "astar-romania.ipynb",
      "provenance": [],
      "collapsed_sections": []
    },
    "kernelspec": {
      "name": "python390jvsc74a57bd063fd5069d213b44bf678585dea6b12cceca9941eaf7f819626cde1f2670de90d",
      "display_name": "Python 3.9.0 64-bit"
    },
    "language_info": {
      "name": "python",
      "version": "3.9.0-final"
    },
    "metadata": {
      "interpreter": {
        "hash": "63fd5069d213b44bf678585dea6b12cceca9941eaf7f819626cde1f2670de90d"
      }
    }
  },
  "cells": [
    {
      "cell_type": "code",
      "execution_count": 1,
      "metadata": {},
      "outputs": [
        {
          "output_type": "stream",
          "name": "stdout",
          "text": [
            "Penyelesaian masalah Romania Arad => Bucharest menggunakan algoritma DFS\n=======================================================================\nKota yg dilewati\t: ['Arad', 'Sibiu', 'Fagaras', 'Bucharest']\nJumlah kota\t\t: 4\nTotal jarak\t\t: 450\n=======================================================================\nPenggunaan memori sebesar 0.00657MB, Dengan maks 0.027792MB\nProgram berjalan selama 0.002001523971557617 detik\n"
          ]
        }
      ],
      "source": [
        "import heapq\n",
        "from search_algorithms import ids\n",
        "from inputs import get_romania_map\n",
        "import tracemalloc\n",
        "import time\n",
        "\n",
        "tracemalloc.start()\n",
        "time_start = time.time()\n",
        "\n",
        "ids(\"Arad\", \"Bucharest\", get_romania_map())\n",
        "\n",
        "time_elapsed = (time.time() - time_start)\n",
        "current, peak = tracemalloc.get_traced_memory()\n",
        "tracemalloc.stop()\n",
        "\n",
        "print(\"=======================================================================\")\n",
        "print(f\"Penggunaan memori sebesar {current / 10**6}MB, Dengan maks {peak / 10**6}MB\")\n",
        "print(f\"Program berjalan selama {time_elapsed} detik\")"
      ]
    }
  ]
}