{
  "nbformat": 4,
  "nbformat_minor": 0,
  "metadata": {
    "colab": {
      "name": "astar-romania.ipynb",
      "provenance": [],
      "collapsed_sections": []
    },
    "kernelspec": {
      "name": "python3",
      "display_name": "Python 3.8.5 64-bit",
      "metadata": {
        "interpreter": {
          "hash": "31f2aee4e71d21fbe5cf8b01ff0e069b9275f58929596ceb00d14d90e3e16cd6"
        }
      }
    },
    "language_info": {
      "name": "python",
      "version": "3.8.5"
    }
  },
  "cells": [
    {
      "cell_type": "code",
      "metadata": {
        "id": "SoML3RPwJ9Cg"
      },
      "source": [
        "import heapq\n",
        "\n",
        "romania = {}"
      ],
      "execution_count": 1,
      "outputs": []
    },
    {
      "cell_type": "code",
      "metadata": {
        "id": "wNw0aGgLKavL"
      },
      "source": [
        "class PriorityQueue: \n",
        "    def __init__(self):\n",
        "        self.cities = []\n",
        "\n",
        "    def push(self, city, cost):\n",
        "        heapq.heappush(self.cities, (cost, city))\n",
        "    \n",
        "    def pop(self):\n",
        "        return heapq.heappop(self.cities)[1]\n",
        "\n",
        "    def is_empty(self):\n",
        "        if (self.cities == []):\n",
        "            return True\n",
        "        else:\n",
        "            return False\n",
        "    \n",
        "    def check(self):\n",
        "        print(self.cities)"
      ],
      "execution_count": 2,
      "outputs": []
    },
    {
      "cell_type": "code",
      "metadata": {
        "id": "2tYmBtSnKeQi"
      },
      "source": [
        "class CityNode:\n",
        "    def __init__(self, city_name, dist):\n",
        "        self.city = str(city_name)\n",
        "        self.dist = int(dist)"
      ],
      "execution_count": 3,
      "outputs": []
    },
    {
      "cell_type": "code",
      "metadata": {
        "id": "kC5MVeHlKhQ9"
      },
      "source": [
        "def make_dict():\n",
        "    file = open(\"romania.txt\", 'r')\n",
        "    for line in file:\n",
        "        arg = line.split(',')\n",
        "        city1 = arg[0]\n",
        "        city2 = arg[1]\n",
        "        dist = int(arg[2])\n",
        "        romania.setdefault(city1, []).append(CityNode(city2, dist))\n",
        "        romania.setdefault(city2, []).append(CityNode(city1, dist))"
      ],
      "execution_count": 4,
      "outputs": []
    },
    {
      "cell_type": "code",
      "metadata": {
        "id": "mkSx2T2SKlyx"
      },
      "source": [
        "def make_heuristic_dict():\n",
        "    heu = {}\n",
        "    file = open(\"romania_sld.txt\", 'r')\n",
        "    for line in file:\n",
        "        arg = line.split(',')\n",
        "        city = arg[0]\n",
        "        value = int(arg[1])\n",
        "        heu[city] = value\n",
        "    return heu"
      ],
      "execution_count": 5,
      "outputs": []
    },
    {
      "cell_type": "code",
      "metadata": {
        "id": "e6-sf_ZNKpkw"
      },
      "source": [
        "def heuristic(city, heu):\n",
        "    return heu[city]"
      ],
      "execution_count": 6,
      "outputs": []
    },
    {
      "cell_type": "code",
      "metadata": {
        "id": "WJ2TQi3-KtWM"
      },
      "source": [
        "def astar(src, dst):\n",
        "    path = {}\n",
        "    distance = {}\n",
        "    pq = PriorityQueue()\n",
        "    h =  make_heuristic_dict()\n",
        "\n",
        "    pq.push(src, 0)\n",
        "    distance[src] = 0\n",
        "    path[src] = None\n",
        "    expandedlist = []\n",
        "\n",
        "    while (pq.is_empty() == False):\n",
        "        curr = pq.pop()\n",
        "        expandedlist.append(curr)\n",
        "\n",
        "        if (curr == dst):\n",
        "            break\n",
        "\n",
        "        for new in romania[curr]:\n",
        "            gcost = distance[curr] + int(new.dist)\n",
        "\n",
        "            if (new.city not in distance or gcost < distance[new.city]):\n",
        "                distance[new.city] = gcost\n",
        "                fcost = gcost + h[new.city]\n",
        "                pq.push(new.city, fcost)\n",
        "                path[new.city] = curr\n",
        "    \n",
        "    print_path(src, dst, path, distance, expandedlist)"
      ],
      "execution_count": 7,
      "outputs": []
    },
    {
      "cell_type": "code",
      "metadata": {
        "id": "r2aXhQ1pKxBZ"
      },
      "source": [
        "def print_path(src, dst, path, distance, expandedlist):\n",
        "    fixpath = []\n",
        "    end = dst\n",
        "\n",
        "    while (path.get(end) != None):\n",
        "        fixpath.append(end)\n",
        "        end = path[end]\n",
        "    fixpath.append(src)\n",
        "    fixpath.reverse()\n",
        "    print(\"Program algoritma Astar untuk masalah Romania\\tArad => Bucharest\")\n",
        "    print(\"=======================================================\")\n",
        "    print(\"Kota yg mungkin dijelajah \\t\\t: \" + str(expandedlist))\n",
        "    print(\"Jumlah kemungkinan kota \\t\\t: \" + str(len(expandedlist)))\n",
        "    print(\"=======================================================\")\n",
        "    print(\"Kota yg dilewati dg jarak terpendek\\t: \" + str(fixpath))\n",
        "    print(\"Jumlah kota yang dilewati \\t\\t: \" + str(len(fixpath)))\n",
        "    print(\"Total jarak \\t\\t\\t\\t: \" + str(distance[dst]))"
      ],
      "execution_count": 8,
      "outputs": []
    },
    {
      "cell_type": "code",
      "metadata": {
        "colab": {
          "base_uri": "https://localhost:8080/"
        },
        "id": "-TDHBPEGKz-R",
        "outputId": "9580cc65-61db-4c34-a0a0-a9b4aad3ce6d"
      },
      "source": [
        "def main():\n",
        "    src = \"Arad\"\n",
        "    dst = \"Bucharest\"\n",
        "    make_dict()\n",
        "    astar(src, dst)\n",
        "\n",
        "if __name__ == \"__main__\":\n",
        "    main()"
      ],
      "execution_count": 9,
      "outputs": [
        {
          "output_type": "stream",
          "name": "stdout",
          "text": [
            "Program algoritma Astar untuk masalah Romania\tArad => Bucharest\n=======================================================\nKota yg mungkin dijelajah \t\t: ['Arad', 'Sibiu', 'Rimnicu Vilcea', 'Fagaras', 'Piteshi', 'Bucharest']\nJumlah kemungkinan kota \t\t: 6\n=======================================================\nKota yg dilewati dg jarak terpendek\t: ['Arad', 'Sibiu', 'Rimnicu Vilcea', 'Piteshi', 'Bucharest']\nJumlah kota yang dilewati \t\t: 5\nTotal jarak \t\t\t\t: 418\n"
          ]
        }
      ]
    }
  ]
}