{
  "nbformat": 4,
  "nbformat_minor": 0,
  "metadata": {
    "colab": {
      "name": "astar-romania.ipynb",
      "provenance": [],
      "collapsed_sections": []
    },
    "kernelspec": {
      "name": "python3",
      "display_name": "Python 3.8.5 64-bit",
      "metadata": {
        "interpreter": {
          "hash": "31f2aee4e71d21fbe5cf8b01ff0e069b9275f58929596ceb00d14d90e3e16cd6"
        }
      }
    },
    "language_info": {
      "name": "python",
      "version": "3.8.5"
    },
    "metadata": {
      "interpreter": {
        "hash": "63fd5069d213b44bf678585dea6b12cceca9941eaf7f819626cde1f2670de90d"
      }
    }
  },
  "cells": [
    {
      "cell_type": "code",
      "execution_count": 15,
      "metadata": {},
      "outputs": [],
      "source": [
        "import heapq\n",
        "from search_algorithms import ids\n",
        "from inputs import get_romania_map"
      ]
    },
    {
      "cell_type": "code",
      "execution_count": 16,
      "metadata": {},
      "outputs": [
        {
          "output_type": "stream",
          "name": "stdout",
          "text": [
            "Program algoritma DFS untuk masalah Romania Arad => Bucharest\n=======================================================\nKota yg mungkin dijelajah \t\t: ['Arad', 'Zerind', 'Oradea', 'Sibiu', 'Fagaras']\nJumlah kemungkinan kota \t\t: 5\n=======================================================\nKota yg dilewati dg jarak terpendek\t: ['Bucharest', 'Sibiu', 'Fagaras', 'Bucharest']\nJumlah kota yang dilewati \t\t: 4\nTotal jarak \t\t\t\t: 450\nCurrent memory usage is 0.006732MB; Peak was 0.024607MB\nCurrent time usage is 0.009624958038330078s\n"
          ]
        }
      ],
      "source": [
        "import tracemalloc\n",
        "import time\n",
        "\n",
        "def main():\n",
        "    src = \"Arad\"\n",
        "    dst = \"Bucharest\"\n",
        "    romania = get_romania_map()\n",
        "    ids(src, dst, romania)\n",
        "\n",
        "if __name__ == \"__main__\":\n",
        "    tracemalloc.start()\n",
        "    time_start = time.time()\n",
        "    main()\n",
        "    time_elapsed = (time.time() - time_start)\n",
        "    current, peak = tracemalloc.get_traced_memory()\n",
        "    print(f\"Current memory usage is {current / 10**6}MB; Peak was {peak / 10**6}MB\")\n",
        "    print(f\"Current time usage is {time_elapsed}s\")\n",
        "    tracemalloc.stop()"
      ]
    }
  ]
}