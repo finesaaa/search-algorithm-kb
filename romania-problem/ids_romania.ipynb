{
  "nbformat": 4,
  "nbformat_minor": 0,
  "metadata": {
    "colab": {
      "name": "astar-romania.ipynb",
      "provenance": [],
      "collapsed_sections": []
    },
    "kernelspec": {
      "name": "python385jvsc74a57bd0916dbcbb3f70747c44a77c7bcd40155683ae19c65e1c03b4aa3499c5328201f1",
      "display_name": "Python 3.8.5 64-bit"
    },
    "language_info": {
      "name": "python",
      "version": "3.8.5"
    },
    "metadata": {
      "interpreter": {
        "hash": "916dbcbb3f70747c44a77c7bcd40155683ae19c65e1c03b4aa3499c5328201f1"
      }
    }
  },
  "cells": [
    {
      "cell_type": "code",
      "execution_count": 1,
      "metadata": {},
      "outputs": [
        {
          "output_type": "stream",
          "name": "stdout",
          "text": [
            "Penyelesaian masalah Romania Arad => Bucharest menggunakan algoritma DFS\n=======================================================================\nKota yg dilewati\t: ['Arad', 'Sibiu', 'Fagaras', 'Bucharest']\nJumlah kota\t\t: 4\nTotal jarak\t\t: 450\n=======================================================================\nPenggunaan memori sebesar 0.00488MB, Dengan maks 0.023872MB\nProgram berjalan selama 0.0036706924438476562 detik\n"
          ]
        }
      ],
      "source": [
        "import heapq\n",
        "from search_algorithms import ids\n",
        "from inputs import get_romania_map\n",
        "import tracemalloc\n",
        "import time\n",
        "\n",
        "def main():\n",
        "    tracemalloc.start()\n",
        "    time_start = time.time()\n",
        "\n",
        "    ids(\"Arad\", \"Bucharest\", get_romania_map())\n",
        "\n",
        "    time_elapsed = (time.time() - time_start)\n",
        "    current, peak = tracemalloc.get_traced_memory()\n",
        "    tracemalloc.stop()\n",
        "\n",
        "    print(\"=======================================================================\")\n",
        "    print(f\"Penggunaan memori sebesar {current / 10**6}MB, Dengan maks {peak / 10**6}MB\")\n",
        "    print(f\"Program berjalan selama {time_elapsed} detik\")\n",
        "\n",
        "\n",
        "if __name__ == \"__main__\":\n",
        "    main()"
      ]
    }
  ]
}