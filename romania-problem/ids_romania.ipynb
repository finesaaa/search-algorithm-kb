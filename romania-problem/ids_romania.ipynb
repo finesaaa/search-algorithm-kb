{
  "nbformat": 4,
  "nbformat_minor": 0,
  "metadata": {
    "colab": {
      "name": "astar-romania.ipynb",
      "provenance": [],
      "collapsed_sections": []
    },
    "kernelspec": {
      "name": "python390jvsc74a57bd063fd5069d213b44bf678585dea6b12cceca9941eaf7f819626cde1f2670de90d",
      "display_name": "Python 3.9.0 64-bit"
    },
    "language_info": {
      "name": "python",
      "version": "3.9.0-final"
    },
    "metadata": {
      "interpreter": {
        "hash": "63fd5069d213b44bf678585dea6b12cceca9941eaf7f819626cde1f2670de90d"
      }
    }
  },
  "cells": [
    {
      "cell_type": "code",
      "metadata": {
        "id": "SoML3RPwJ9Cg"
      },
      "source": [
        "import heapq\n",
        "\n",
        "romania = {}"
      ],
      "execution_count": 136,
      "outputs": []
    },
    {
      "cell_type": "code",
      "metadata": {
        "id": "wNw0aGgLKavL"
      },
      "source": [
        "class PriorityQueue: \n",
        "    def __init__(self):\n",
        "        self.cities = []\n",
        "\n",
        "    def push(self, city, cost):\n",
        "        heapq.heappush(self.cities, (cost, city))\n",
        "    \n",
        "    def pop(self):\n",
        "        return heapq.heappop(self.cities)[1]\n",
        "\n",
        "    def is_empty(self):\n",
        "        if (self.cities == []):\n",
        "            return True\n",
        "        else:\n",
        "            return False\n",
        "    \n",
        "    def check(self):\n",
        "        print(self.cities)"
      ],
      "execution_count": 137,
      "outputs": []
    },
    {
      "cell_type": "code",
      "metadata": {
        "id": "2tYmBtSnKeQi"
      },
      "source": [
        "class CityNode:\n",
        "    def __init__(self, city_name, dist):\n",
        "        self.city = str(city_name)\n",
        "        self.dist = int(dist)"
      ],
      "execution_count": 138,
      "outputs": []
    },
    {
      "cell_type": "code",
      "metadata": {
        "id": "kC5MVeHlKhQ9"
      },
      "source": [
        "def make_dict():\n",
        "    file = open(\"romania.txt\", 'r')\n",
        "    for line in file:\n",
        "        arg = line.split(',')\n",
        "        city1 = arg[0]\n",
        "        city2 = arg[1]\n",
        "        dist = int(arg[2])\n",
        "        romania.setdefault(city1, []).append(CityNode(city2, dist))\n",
        "        romania.setdefault(city2, []).append(CityNode(city1, dist))"
      ],
      "execution_count": 139,
      "outputs": []
    },
    {
      "cell_type": "code",
      "metadata": {
        "id": "WJ2TQi3-KtWM"
      },
      "source": [
        "path = []\n",
        "def ids(src, dst):\n",
        "    depth = 0\n",
        "    maxdepth = 2\n",
        "    path.append(src)\n",
        "    while(True):\n",
        "        result = dls(src, dst, depth)\n",
        "        if(result == dst or depth == maxdepth):\n",
        "            print(path)\n",
        "        depth = depth + 1\n",
        "    # distance = {}\n",
        "    # pq = PriorityQueue()\n",
        "\n",
        "    # pq.push(src, 0)\n",
        "    # distance[src] = 0\n",
        "    # path[src] = None\n",
        "    # expandedlist = []\n",
        "\n",
        "    # while (pq.is_empty() == False):\n",
        "    #     curr = pq.pop()\n",
        "    #     if (curr[1] == dst):\n",
        "    #         break\n",
        "    #     expandedlist.append(curr[1])\n",
        "    #     for new in romania[curr[1]]:\n",
        "    #         cost = int(curr[0]) + int(new.dist)\n",
        "    #         if (new.city not in distance):\n",
        "    #             distance[new.city] = cost\n",
        "    #             pq.push(new.city, cost)\n",
        "    #             path[curr[1]] = new.city\n",
        "    #             # path[new.city] = curr[1]\n",
        "    \n",
        "    # print_path(src, dst, path, distance, expandedlist)"
      ],
      "execution_count": 140,
      "outputs": []
    },
    {
      "cell_type": "code",
      "execution_count": 141,
      "metadata": {},
      "outputs": [],
      "source": [
        "def dls(node, dst, depth):\n",
        "    if (depth == 0 and node == dst):\n",
        "        return node\n",
        "    elif (depth > 0):\n",
        "        for new in romania[node]:\n",
        "            path.append(new.city)\n",
        "            print(path)\n",
        "            dls(new, dst, depth-1)\n",
        "    else: \n",
        "        return\n",
        "\n",
        "def dfs(node, dst, depth):\n",
        "    if (depth == 0 and node == dst):\n",
        "        return node\n",
        "    elif (depth > 0):\n",
        "        \n",
        "    path = {}\n",
        "    distance = {}\n",
        "    pq = PriorityQueue()\n",
        "\n",
        "    pq.push(src, 0)\n",
        "    distance[src] = 0\n",
        "    path[src] = None\n",
        "    expandedlist = []\n",
        "\n",
        "    while (pq.is_empty() == False):\n",
        "        curr = pq.pop()\n",
        "        if (curr[1] == dst):\n",
        "            break\n",
        "        expandedlist.append(curr[1])\n",
        "        for new in romania[curr[1]]:\n",
        "            cost = int(curr[0]) + int(new.dist)\n",
        "            if (new.city not in distance):\n",
        "                distance[new.city] = cost\n",
        "                pq.push(new.city, cost)\n",
        "                path[curr[1]] = new.city\n",
        "                # path[new.city] = curr[1]\n",
        "    \n",
        "    print_path(src, dst, path, distance, expandedlist)"
      ]
    },
    {
      "cell_type": "code",
      "metadata": {
        "id": "r2aXhQ1pKxBZ"
      },
      "source": [
        "def print_path(src, dst, path, distance, expandedlist):\n",
        "    fixpath = []\n",
        "    end = dst\n",
        "\n",
        "    while (path.get(end) != None):\n",
        "        fixpath.append(end)\n",
        "        end = path[end]\n",
        "    fixpath.append(src)\n",
        "    fixpath.reverse()\n",
        "    print(\"Program algoritma Astar untuk masalah Romania\\tArad => Bucharest\")\n",
        "    print(\"=======================================================\")\n",
        "    print(\"Kota yg mungkin dijelajah \\t\\t: \" + str(expandedlist))\n",
        "    print(\"Jumlah kemungkinan kota \\t\\t: \" + str(len(expandedlist)))\n",
        "    print(\"=======================================================\")\n",
        "    print(\"Kota yg dilewati dg jarak terpendek\\t: \" + str(fixpath))\n",
        "    print(\"Jumlah kota yang dilewati \\t\\t: \" + str(len(fixpath)))\n",
        "    print(\"Total jarak \\t\\t\\t\\t: \" + str(distance[dst]))"
      ],
      "execution_count": 142,
      "outputs": []
    },
    {
      "cell_type": "code",
      "metadata": {
        "colab": {
          "base_uri": "https://localhost:8080/"
        },
        "id": "-TDHBPEGKz-R",
        "outputId": "9580cc65-61db-4c34-a0a0-a9b4aad3ce6d"
      },
      "source": [
        "def main():\n",
        "    src = \"Arad\"\n",
        "    dst = \"Bucharest\"\n",
        "    make_dict()\n",
        "    ids(src, dst)\n",
        "\n",
        "if __name__ == \"__main__\":\n",
        "    main()"
      ],
      "execution_count": 143,
      "outputs": [
        {
          "output_type": "stream",
          "name": "stdout",
          "text": [
            "['Arad', 'Zerind']\n['Arad', 'Zerind', 'Sibiu']\n['Arad', 'Zerind', 'Sibiu', 'Timisoara']\n['Arad', 'Zerind', 'Sibiu', 'Timisoara', 'Zerind']\n"
          ]
        },
        {
          "output_type": "error",
          "ename": "KeyError",
          "evalue": "<__main__.CityNode object at 0x000001FD8A770550>",
          "traceback": [
            "\u001b[1;31m---------------------------------------------------------------------------\u001b[0m",
            "\u001b[1;31mKeyError\u001b[0m                                  Traceback (most recent call last)",
            "\u001b[1;32m<ipython-input-143-2ae3481ec211>\u001b[0m in \u001b[0;36m<module>\u001b[1;34m\u001b[0m\n\u001b[0;32m      6\u001b[0m \u001b[1;33m\u001b[0m\u001b[0m\n\u001b[0;32m      7\u001b[0m \u001b[1;32mif\u001b[0m \u001b[0m__name__\u001b[0m \u001b[1;33m==\u001b[0m \u001b[1;34m\"__main__\"\u001b[0m\u001b[1;33m:\u001b[0m\u001b[1;33m\u001b[0m\u001b[1;33m\u001b[0m\u001b[0m\n\u001b[1;32m----> 8\u001b[1;33m     \u001b[0mmain\u001b[0m\u001b[1;33m(\u001b[0m\u001b[1;33m)\u001b[0m\u001b[1;33m\u001b[0m\u001b[1;33m\u001b[0m\u001b[0m\n\u001b[0m",
            "\u001b[1;32m<ipython-input-143-2ae3481ec211>\u001b[0m in \u001b[0;36mmain\u001b[1;34m()\u001b[0m\n\u001b[0;32m      3\u001b[0m     \u001b[0mdst\u001b[0m \u001b[1;33m=\u001b[0m \u001b[1;34m\"Bucharest\"\u001b[0m\u001b[1;33m\u001b[0m\u001b[1;33m\u001b[0m\u001b[0m\n\u001b[0;32m      4\u001b[0m     \u001b[0mmake_dict\u001b[0m\u001b[1;33m(\u001b[0m\u001b[1;33m)\u001b[0m\u001b[1;33m\u001b[0m\u001b[1;33m\u001b[0m\u001b[0m\n\u001b[1;32m----> 5\u001b[1;33m     \u001b[0mids\u001b[0m\u001b[1;33m(\u001b[0m\u001b[0msrc\u001b[0m\u001b[1;33m,\u001b[0m \u001b[0mdst\u001b[0m\u001b[1;33m)\u001b[0m\u001b[1;33m\u001b[0m\u001b[1;33m\u001b[0m\u001b[0m\n\u001b[0m\u001b[0;32m      6\u001b[0m \u001b[1;33m\u001b[0m\u001b[0m\n\u001b[0;32m      7\u001b[0m \u001b[1;32mif\u001b[0m \u001b[0m__name__\u001b[0m \u001b[1;33m==\u001b[0m \u001b[1;34m\"__main__\"\u001b[0m\u001b[1;33m:\u001b[0m\u001b[1;33m\u001b[0m\u001b[1;33m\u001b[0m\u001b[0m\n",
            "\u001b[1;32m<ipython-input-140-25c34f0b99e2>\u001b[0m in \u001b[0;36mids\u001b[1;34m(src, dst)\u001b[0m\n\u001b[0;32m      5\u001b[0m     \u001b[0mpath\u001b[0m\u001b[1;33m.\u001b[0m\u001b[0mappend\u001b[0m\u001b[1;33m(\u001b[0m\u001b[0msrc\u001b[0m\u001b[1;33m)\u001b[0m\u001b[1;33m\u001b[0m\u001b[1;33m\u001b[0m\u001b[0m\n\u001b[0;32m      6\u001b[0m     \u001b[1;32mwhile\u001b[0m\u001b[1;33m(\u001b[0m\u001b[1;32mTrue\u001b[0m\u001b[1;33m)\u001b[0m\u001b[1;33m:\u001b[0m\u001b[1;33m\u001b[0m\u001b[1;33m\u001b[0m\u001b[0m\n\u001b[1;32m----> 7\u001b[1;33m         \u001b[0mresult\u001b[0m \u001b[1;33m=\u001b[0m \u001b[0mdls\u001b[0m\u001b[1;33m(\u001b[0m\u001b[0msrc\u001b[0m\u001b[1;33m,\u001b[0m \u001b[0mdst\u001b[0m\u001b[1;33m,\u001b[0m \u001b[0mdepth\u001b[0m\u001b[1;33m)\u001b[0m\u001b[1;33m\u001b[0m\u001b[1;33m\u001b[0m\u001b[0m\n\u001b[0m\u001b[0;32m      8\u001b[0m         \u001b[1;32mif\u001b[0m\u001b[1;33m(\u001b[0m\u001b[0mresult\u001b[0m \u001b[1;33m==\u001b[0m \u001b[0mdst\u001b[0m \u001b[1;32mor\u001b[0m \u001b[0mdepth\u001b[0m \u001b[1;33m==\u001b[0m \u001b[0mmaxdepth\u001b[0m\u001b[1;33m)\u001b[0m\u001b[1;33m:\u001b[0m\u001b[1;33m\u001b[0m\u001b[1;33m\u001b[0m\u001b[0m\n\u001b[0;32m      9\u001b[0m             \u001b[0mprint\u001b[0m\u001b[1;33m(\u001b[0m\u001b[0mpath\u001b[0m\u001b[1;33m)\u001b[0m\u001b[1;33m\u001b[0m\u001b[1;33m\u001b[0m\u001b[0m\n",
            "\u001b[1;32m<ipython-input-141-9595a11977a0>\u001b[0m in \u001b[0;36mdls\u001b[1;34m(node, dst, depth)\u001b[0m\n\u001b[0;32m      6\u001b[0m             \u001b[0mpath\u001b[0m\u001b[1;33m.\u001b[0m\u001b[0mappend\u001b[0m\u001b[1;33m(\u001b[0m\u001b[0mnew\u001b[0m\u001b[1;33m.\u001b[0m\u001b[0mcity\u001b[0m\u001b[1;33m)\u001b[0m\u001b[1;33m\u001b[0m\u001b[1;33m\u001b[0m\u001b[0m\n\u001b[0;32m      7\u001b[0m             \u001b[0mprint\u001b[0m\u001b[1;33m(\u001b[0m\u001b[0mpath\u001b[0m\u001b[1;33m)\u001b[0m\u001b[1;33m\u001b[0m\u001b[1;33m\u001b[0m\u001b[0m\n\u001b[1;32m----> 8\u001b[1;33m             \u001b[0mdls\u001b[0m\u001b[1;33m(\u001b[0m\u001b[0mnew\u001b[0m\u001b[1;33m,\u001b[0m \u001b[0mdst\u001b[0m\u001b[1;33m,\u001b[0m \u001b[0mdepth\u001b[0m\u001b[1;33m-\u001b[0m\u001b[1;36m1\u001b[0m\u001b[1;33m)\u001b[0m\u001b[1;33m\u001b[0m\u001b[1;33m\u001b[0m\u001b[0m\n\u001b[0m\u001b[0;32m      9\u001b[0m     \u001b[1;32melse\u001b[0m\u001b[1;33m:\u001b[0m\u001b[1;33m\u001b[0m\u001b[1;33m\u001b[0m\u001b[0m\n\u001b[0;32m     10\u001b[0m         \u001b[1;32mreturn\u001b[0m\u001b[1;33m\u001b[0m\u001b[1;33m\u001b[0m\u001b[0m\n",
            "\u001b[1;32m<ipython-input-141-9595a11977a0>\u001b[0m in \u001b[0;36mdls\u001b[1;34m(node, dst, depth)\u001b[0m\n\u001b[0;32m      3\u001b[0m         \u001b[1;32mreturn\u001b[0m \u001b[0mnode\u001b[0m\u001b[1;33m\u001b[0m\u001b[1;33m\u001b[0m\u001b[0m\n\u001b[0;32m      4\u001b[0m     \u001b[1;32melif\u001b[0m \u001b[1;33m(\u001b[0m\u001b[0mdepth\u001b[0m \u001b[1;33m>\u001b[0m \u001b[1;36m0\u001b[0m\u001b[1;33m)\u001b[0m\u001b[1;33m:\u001b[0m\u001b[1;33m\u001b[0m\u001b[1;33m\u001b[0m\u001b[0m\n\u001b[1;32m----> 5\u001b[1;33m         \u001b[1;32mfor\u001b[0m \u001b[0mnew\u001b[0m \u001b[1;32min\u001b[0m \u001b[0mromania\u001b[0m\u001b[1;33m[\u001b[0m\u001b[0mnode\u001b[0m\u001b[1;33m]\u001b[0m\u001b[1;33m:\u001b[0m\u001b[1;33m\u001b[0m\u001b[1;33m\u001b[0m\u001b[0m\n\u001b[0m\u001b[0;32m      6\u001b[0m             \u001b[0mpath\u001b[0m\u001b[1;33m.\u001b[0m\u001b[0mappend\u001b[0m\u001b[1;33m(\u001b[0m\u001b[0mnew\u001b[0m\u001b[1;33m.\u001b[0m\u001b[0mcity\u001b[0m\u001b[1;33m)\u001b[0m\u001b[1;33m\u001b[0m\u001b[1;33m\u001b[0m\u001b[0m\n\u001b[0;32m      7\u001b[0m             \u001b[0mprint\u001b[0m\u001b[1;33m(\u001b[0m\u001b[0mpath\u001b[0m\u001b[1;33m)\u001b[0m\u001b[1;33m\u001b[0m\u001b[1;33m\u001b[0m\u001b[0m\n",
            "\u001b[1;31mKeyError\u001b[0m: <__main__.CityNode object at 0x000001FD8A770550>"
          ]
        }
      ]
    }
  ]
}