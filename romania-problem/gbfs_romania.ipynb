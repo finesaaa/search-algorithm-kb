{
  "nbformat": 4,
  "nbformat_minor": 0,
  "metadata": {
    "colab": {
      "name": "astar-romania.ipynb",
      "provenance": [],
      "collapsed_sections": []
    },
    "kernelspec": {
      "name": "python3",
      "display_name": "Python 3.8.5 64-bit",
      "metadata": {
        "interpreter": {
          "hash": "31f2aee4e71d21fbe5cf8b01ff0e069b9275f58929596ceb00d14d90e3e16cd6"
        }
      }
    },
    "language_info": {
      "name": "python",
      "version": "3.8.5"
    }
  },
  "cells": [
    {
      "cell_type": "code",
      "metadata": {
        "id": "SoML3RPwJ9Cg"
      },
      "source": [
        "import heapq\n",
        "from search_algorithms import greedy_bfs\n",
        "from inputs import get_romania_map, get_romania_heuristic"
      ],
      "execution_count": 5,
      "outputs": []
    },
    {
      "cell_type": "code",
      "metadata": {
        "colab": {
          "base_uri": "https://localhost:8080/"
        },
        "id": "-TDHBPEGKz-R",
        "outputId": "9580cc65-61db-4c34-a0a0-a9b4aad3ce6d"
      },
      "source": [
        "import tracemalloc\n",
        "import time\n",
        "\n",
        "def main():\n",
        "    src = \"Arad\"\n",
        "    dst = \"Bucharest\"\n",
        "    romania = get_romania_map()\n",
        "    heuristic =  get_romania_heuristic()\n",
        "    greedy_bfs(src, dst, romania, heuristic)\n",
        "\n",
        "if __name__ == \"__main__\":\n",
        "    tracemalloc.start()\n",
        "    time_start = time.time()\n",
        "    main()\n",
        "    time_elapsed = (time.time() - time_start)\n",
        "    current, peak = tracemalloc.get_traced_memory()\n",
        "    print(f\"Current memory usage is {current / 10**6}MB; Peak was {peak / 10**6}MB\")\n",
        "    print(f\"Current time usage is {time_elapsed}s\")\n",
        "    tracemalloc.stop()"
      ],
      "execution_count": 6,
      "outputs": [
        {
          "output_type": "stream",
          "name": "stdout",
          "text": [
            "Program algoritma Greedy BFS untuk masalah Romania Arad => Bucharest\n=======================================================\nKota yg mungkin dijelajah \t\t: ['Arad', 'Sibiu', 'Fagaras', 'Bucharest']\nJumlah kemungkinan kota \t\t: 4\n=======================================================\nKota yg dilewati dg jarak terpendek\t: ['Arad', 'Sibiu', 'Fagaras', 'Bucharest']\nJumlah kota yang dilewati \t\t: 4\nTotal jarak \t\t\t\t: 450\nCurrent memory usage is 0.007393MB; Peak was 0.028644MB\nCurrent time usage is 0.005799055099487305s\n"
          ]
        }
      ]
    }
  ]
}