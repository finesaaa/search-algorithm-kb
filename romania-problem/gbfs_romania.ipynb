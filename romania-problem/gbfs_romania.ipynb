{
  "nbformat": 4,
  "nbformat_minor": 0,
  "metadata": {
    "colab": {
      "name": "astar-romania.ipynb",
      "provenance": [],
      "collapsed_sections": []
    },
    "kernelspec": {
      "name": "python390jvsc74a57bd063fd5069d213b44bf678585dea6b12cceca9941eaf7f819626cde1f2670de90d",
      "display_name": "Python 3.9.0 64-bit"
    },
    "language_info": {
      "name": "python",
      "version": "3.9.0-final"
    },
    "metadata": {
      "interpreter": {
        "hash": "63fd5069d213b44bf678585dea6b12cceca9941eaf7f819626cde1f2670de90d"
      }
    }
  },
  "cells": [
    {
      "cell_type": "code",
      "metadata": {
        "id": "SoML3RPwJ9Cg"
      },
      "source": [
        "import heapq\n",
        "from search_algorithms import greedy_bfs\n",
        "from inputs import get_romania_map, make_heuristic_dict"
      ],
      "execution_count": 1,
      "outputs": []
    },
    {
      "cell_type": "code",
      "metadata": {
        "colab": {
          "base_uri": "https://localhost:8080/"
        },
        "id": "-TDHBPEGKz-R",
        "outputId": "9580cc65-61db-4c34-a0a0-a9b4aad3ce6d"
      },
      "source": [
        "def main():\n",
        "    src = \"Arad\"\n",
        "    dst = \"Bucharest\"\n",
        "    romania = get_romania_map()\n",
        "    heuristic =  make_heuristic_dict()\n",
        "    greedy_bfs(src, dst, romania, heuristic)\n",
        "\n",
        "if __name__ == \"__main__\":\n",
        "    main()"
      ],
      "execution_count": 2,
      "outputs": [
        {
          "output_type": "stream",
          "name": "stdout",
          "text": [
            "Program algoritma Greedy BFS untuk masalah Romania Arad => Bucharest\n=======================================================\nKota yg mungkin dijelajah \t\t: ['Arad', 'Sibiu', 'Fagaras', 'Bucharest']\nJumlah kemungkinan kota \t\t: 4\n=======================================================\nKota yg dilewati dg jarak terpendek\t: ['Arad', 'Sibiu', 'Fagaras', 'Bucharest']\nJumlah kota yang dilewati \t\t: 4\nTotal jarak \t\t\t\t: 450\n"
          ]
        }
      ]
    }
  ]
}